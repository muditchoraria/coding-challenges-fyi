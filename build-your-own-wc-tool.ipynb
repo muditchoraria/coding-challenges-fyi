{
  "nbformat": 4,
  "nbformat_minor": 0,
  "metadata": {
    "colab": {
      "provenance": [],
      "toc_visible": true,
      "authorship_tag": "ABX9TyOZa2r/8Ukb11YJOqOhQ+uw",
      "include_colab_link": true
    },
    "kernelspec": {
      "name": "python3",
      "display_name": "Python 3"
    },
    "language_info": {
      "name": "python"
    }
  },
  "cells": [
    {
      "cell_type": "markdown",
      "metadata": {
        "id": "view-in-github",
        "colab_type": "text"
      },
      "source": [
        "<a href=\"https://colab.research.google.com/github/muditchoraria/coding-challenges-fyi/blob/main/build-your-own-wc-tool.ipynb\" target=\"_parent\"><img src=\"https://colab.research.google.com/assets/colab-badge.svg\" alt=\"Open In Colab\"/></a>"
      ]
    },
    {
      "cell_type": "code",
      "source": [
        "import cmd\n",
        "import os\n",
        "\n",
        "class wc_cli(cmd.Cmd):\n",
        "\n",
        "    def do_wc(self, line):\n",
        "        \"\"\"wc starter!\"\"\"\n",
        "        args = line.split()\n",
        "\n",
        "        if \"-c\" in args:\n",
        "            file_path_index = args.index(\"-c\") + 1\n",
        "            if file_path_index < len(args):\n",
        "                file_path = args[file_path_index]\n",
        "                self.count_bytes(file_path)\n",
        "\n",
        "        elif \"-l\" in args:\n",
        "            file_path_index = args.index(\"-l\") + 1\n",
        "            if file_path_index < len(args):\n",
        "                file_path = args[file_path_index]\n",
        "                self.count_lines(file_path)\n",
        "\n",
        "        elif \"-w\" in args:\n",
        "            file_path_index = args.index(\"-w\") + 1\n",
        "            if file_path_index < len(args):\n",
        "                file_path = args[file_path_index]\n",
        "                self.count_words(file_path)\n",
        "\n",
        "        elif \"-m\" in args:\n",
        "            file_path_index = args.index(\"-m\") + 1\n",
        "            if file_path_index < len(args):\n",
        "                file_path = args[file_path_index]\n",
        "                self.count_char(file_path)\n",
        "\n",
        "        else:\n",
        "            file_path = args[0]\n",
        "            self.count_bytes(file_path)\n",
        "            self.count_lines(file_path)\n",
        "            self.count_words(file_path)\n",
        "            self.count_char(file_path)\n",
        "\n",
        "\n",
        "\n",
        "    def count_bytes(self, file_path):\n",
        "        file_size = os.path.getsize(file_path)\n",
        "        print(\"The size of the file is:\", file_size, \"bytes\")\n",
        "\n",
        "    def count_lines(self, file_path):\n",
        "        with open(file_path, 'r') as file:\n",
        "            lines = sum(1 for line in file)\n",
        "            print(\"The lines of the file is:\", lines, \"lines\")\n",
        "\n",
        "    def count_words(self, file_path):\n",
        "        with open(file_path, 'r') as file:\n",
        "            words = sum(len(line.split()) for line in file)\n",
        "            print(\"The number of words of the file is:\", words, \"words\")\n",
        "\n",
        "    def count_char(self, file_path):\n",
        "        with open(file_path, 'r') as file:\n",
        "            content_bytes = file.read()\n",
        "            content_string = content_bytes.decode('utf-8')\n",
        "            print(\"The count of characters of the file is:\", len(content_string), \"characters\")\n",
        "\n",
        "\n",
        "    def do_quit(self, line):\n",
        "        \"\"\"Exit the CLI.\"\"\"\n",
        "        return True\n",
        "\n",
        "\n",
        "if __name__ == '__main__':\n",
        "    wc_cli().cmdloop()"
      ],
      "metadata": {
        "colab": {
          "base_uri": "https://localhost:8080/"
        },
        "id": "1uMcRI8zRdXj",
        "outputId": "caa409c4-d3b1-4030-e88d-d1128c1efa48"
      },
      "execution_count": null,
      "outputs": [
        {
          "output_type": "stream",
          "name": "stdout",
          "text": [
            "(Cmd) wc test.txt\n",
            "The size of the file is: 342190 bytes\n",
            "The lines of the file is: 7145 lines\n",
            "The number of words of the file is: 58164 words\n",
            "The count of characters of the file is: 339292 characters\n"
          ]
        }
      ]
    }
  ]
}